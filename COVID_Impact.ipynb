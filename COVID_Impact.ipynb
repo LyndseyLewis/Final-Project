{
 "cells": [
  {
   "cell_type": "markdown",
   "id": "4ae1ea5e",
   "metadata": {},
   "source": [
    " # FINAL PROJECT!\n",
    "\n",
    " Thanks to the Data Extractors for the inital work on COVID19 Data!\n",
    " COVID19 cases and deaths impacct on Unemployment and Businesses\n",
    "\n",
    "\n",
    "\n",
    "# Load Libraries\n",
    "\n",
    "\n",
    "\n",
    "\n"
   ]
  },
  {
   "cell_type": "code",
   "execution_count": 33,
   "id": "d7a5c55e",
   "metadata": {},
   "outputs": [],
   "source": [
    "import pandas as pd\n",
    "import numpy as np\n",
    "import seaborn as sns\n",
    "import matplotlib.mlab as mlab\n",
    "import matplotlib.pyplot as plt\n",
    "from scipy.stats import norm\n",
    "from scipy import stats\n",
    "from statsmodels.stats.multicomp import pairwise_tukeyhsd\n",
    "from statsmodels.stats.multicomp import MultiComparison\n",
    "from scipy.stats import ttest_ind\n",
    "%matplotlib inline\n",
    "from sklearn.cluster import KMeans"
   ]
  },
  {
   "cell_type": "markdown",
   "id": "cf0fbadd",
   "metadata": {},
   "source": [
    "# Import Data"
   ]
  },
  {
   "cell_type": "code",
   "execution_count": 6,
   "id": "e442fd17",
   "metadata": {},
   "outputs": [],
   "source": [
    "NetChangeBusiness_20_21 = pd.read_csv(\"C:/Users/pammy/OneDrive/Documents/GitHub/FinalProject/NetBusinessChange_20_21.csv\")\n",
    "NetCovidDeaths_20_21= pd.read_csv(\"C:/Users/pammy/OneDrive/Documents/GitHub/FinalProject/United_States_COVID-19_Cases_and_Deaths_by_State_over_Time.csv\")  \n"
   ]
  },
  {
   "cell_type": "markdown",
   "id": "747c8565",
   "metadata": {},
   "source": [
    "# DATA WRANGLING AND CLEAN UP\n",
    "Week 2\n"
   ]
  },
  {
   "cell_type": "markdown",
   "id": "4d3e3eb2",
   "metadata": {},
   "source": [
    "# VIEW DATA\n",
    "Set Up display:\n",
    "\n"
   ]
  },
  {
   "cell_type": "code",
   "execution_count": 8,
   "id": "a3ab15fc",
   "metadata": {},
   "outputs": [],
   "source": [
    "class display(object):\n",
    "    \"\"\"Display HTML representation of multiple objects\"\"\"\n",
    "    template = \"\"\"<div style=\"float: left; padding: 10px;\">\n",
    "    <p style='font-family:\"Courier New\", Courier, monospace'>{0}</p>{1}\n",
    "    </div>\"\"\"\n",
    "    def __init__(self, *args):\n",
    "        self.args = args\n",
    "        \n",
    "    def _repr_html_(self):\n",
    "        return '\\n'.join(self.template.format(a, eval(a)._repr_html_())\n",
    "                         for a in self.args)\n",
    "    \n",
    "    def __repr__(self):\n",
    "        return '\\n\\n'.join(a + '\\n' + repr(eval(a))\n",
    "                           for a in self.args)"
   ]
  },
  {
   "cell_type": "markdown",
   "id": "a814e50f",
   "metadata": {},
   "source": [
    "# View Display\n",
    "Net Change in Business Closings and Openings/Covid Cases and Deaths"
   ]
  },
  {
   "cell_type": "code",
   "execution_count": 9,
   "id": "46aa9793",
   "metadata": {},
   "outputs": [
    {
     "data": {
      "text/html": [
       "<div style=\"float: left; padding: 10px;\">\n",
       "    <p style='font-family:\"Courier New\", Courier, monospace'>NetChangeBusiness_20_21</p><div>\n",
       "<style scoped>\n",
       "    .dataframe tbody tr th:only-of-type {\n",
       "        vertical-align: middle;\n",
       "    }\n",
       "\n",
       "    .dataframe tbody tr th {\n",
       "        vertical-align: top;\n",
       "    }\n",
       "\n",
       "    .dataframe thead th {\n",
       "        text-align: right;\n",
       "    }\n",
       "</style>\n",
       "<table border=\"1\" class=\"dataframe\">\n",
       "  <thead>\n",
       "    <tr style=\"text-align: right;\">\n",
       "      <th></th>\n",
       "      <th>State</th>\n",
       "      <th>Bus_closing</th>\n",
       "      <th>Bus_opening</th>\n",
       "    </tr>\n",
       "  </thead>\n",
       "  <tbody>\n",
       "    <tr>\n",
       "      <th>0</th>\n",
       "      <td>NY</td>\n",
       "      <td>0.53</td>\n",
       "      <td>0.47</td>\n",
       "    </tr>\n",
       "    <tr>\n",
       "      <th>1</th>\n",
       "      <td>FL</td>\n",
       "      <td>0.03</td>\n",
       "      <td>0.97</td>\n",
       "    </tr>\n",
       "    <tr>\n",
       "      <th>2</th>\n",
       "      <td>GA</td>\n",
       "      <td>0.66</td>\n",
       "      <td>0.34</td>\n",
       "    </tr>\n",
       "    <tr>\n",
       "      <th>3</th>\n",
       "      <td>MO</td>\n",
       "      <td>0.13</td>\n",
       "      <td>0.87</td>\n",
       "    </tr>\n",
       "    <tr>\n",
       "      <th>4</th>\n",
       "      <td>WA</td>\n",
       "      <td>0.47</td>\n",
       "      <td>0.53</td>\n",
       "    </tr>\n",
       "    <tr>\n",
       "      <th>5</th>\n",
       "      <td>CA</td>\n",
       "      <td>0.99</td>\n",
       "      <td>0.01</td>\n",
       "    </tr>\n",
       "    <tr>\n",
       "      <th>6</th>\n",
       "      <td>LA</td>\n",
       "      <td>0.55</td>\n",
       "      <td>0.45</td>\n",
       "    </tr>\n",
       "    <tr>\n",
       "      <th>7</th>\n",
       "      <td>HW</td>\n",
       "      <td>0.60</td>\n",
       "      <td>0.40</td>\n",
       "    </tr>\n",
       "    <tr>\n",
       "      <th>8</th>\n",
       "      <td>TX</td>\n",
       "      <td>0.47</td>\n",
       "      <td>0.53</td>\n",
       "    </tr>\n",
       "    <tr>\n",
       "      <th>9</th>\n",
       "      <td>National</td>\n",
       "      <td>0.10</td>\n",
       "      <td>0.99</td>\n",
       "    </tr>\n",
       "  </tbody>\n",
       "</table>\n",
       "</div>\n",
       "    </div>\n",
       "<div style=\"float: left; padding: 10px;\">\n",
       "    <p style='font-family:\"Courier New\", Courier, monospace'>NetCovidDeaths_20_21</p><div>\n",
       "<style scoped>\n",
       "    .dataframe tbody tr th:only-of-type {\n",
       "        vertical-align: middle;\n",
       "    }\n",
       "\n",
       "    .dataframe tbody tr th {\n",
       "        vertical-align: top;\n",
       "    }\n",
       "\n",
       "    .dataframe thead th {\n",
       "        text-align: right;\n",
       "    }\n",
       "</style>\n",
       "<table border=\"1\" class=\"dataframe\">\n",
       "  <thead>\n",
       "    <tr style=\"text-align: right;\">\n",
       "      <th></th>\n",
       "      <th>submission_date</th>\n",
       "      <th>state</th>\n",
       "      <th>tot_cases</th>\n",
       "      <th>conf_cases</th>\n",
       "      <th>prob_cases</th>\n",
       "      <th>new_case</th>\n",
       "      <th>pnew_case</th>\n",
       "      <th>tot_death</th>\n",
       "      <th>conf_death</th>\n",
       "      <th>prob_death</th>\n",
       "      <th>new_death</th>\n",
       "      <th>pnew_death</th>\n",
       "      <th>created_at</th>\n",
       "      <th>consent_cases</th>\n",
       "      <th>consent_deaths</th>\n",
       "    </tr>\n",
       "  </thead>\n",
       "  <tbody>\n",
       "    <tr>\n",
       "      <th>0</th>\n",
       "      <td>1/22/2020</td>\n",
       "      <td>ND</td>\n",
       "      <td>163565</td>\n",
       "      <td>135705.0</td>\n",
       "      <td>27860.0</td>\n",
       "      <td>589</td>\n",
       "      <td>220.0</td>\n",
       "      <td>1907</td>\n",
       "      <td>NaN</td>\n",
       "      <td>NaN</td>\n",
       "      <td>9</td>\n",
       "      <td>0.0</td>\n",
       "      <td>12/2/2021 14:35</td>\n",
       "      <td>Agree</td>\n",
       "      <td>Not agree</td>\n",
       "    </tr>\n",
       "    <tr>\n",
       "      <th>1</th>\n",
       "      <td>1/22/2020</td>\n",
       "      <td>WA</td>\n",
       "      <td>197450</td>\n",
       "      <td>NaN</td>\n",
       "      <td>NaN</td>\n",
       "      <td>3018</td>\n",
       "      <td>500.0</td>\n",
       "      <td>2850</td>\n",
       "      <td>NaN</td>\n",
       "      <td>NaN</td>\n",
       "      <td>-166</td>\n",
       "      <td>0.0</td>\n",
       "      <td>12/12/2020 0:00</td>\n",
       "      <td>NaN</td>\n",
       "      <td>NaN</td>\n",
       "    </tr>\n",
       "    <tr>\n",
       "      <th>2</th>\n",
       "      <td>1/22/2020</td>\n",
       "      <td>MD</td>\n",
       "      <td>100715</td>\n",
       "      <td>NaN</td>\n",
       "      <td>NaN</td>\n",
       "      <td>503</td>\n",
       "      <td>0.0</td>\n",
       "      <td>3765</td>\n",
       "      <td>3616.0</td>\n",
       "      <td>149.0</td>\n",
       "      <td>3</td>\n",
       "      <td>0.0</td>\n",
       "      <td>8/19/2020 0:00</td>\n",
       "      <td>NaN</td>\n",
       "      <td>Agree</td>\n",
       "    </tr>\n",
       "    <tr>\n",
       "      <th>3</th>\n",
       "      <td>1/22/2020</td>\n",
       "      <td>VT</td>\n",
       "      <td>107785</td>\n",
       "      <td>NaN</td>\n",
       "      <td>NaN</td>\n",
       "      <td>467</td>\n",
       "      <td>35.0</td>\n",
       "      <td>585</td>\n",
       "      <td>NaN</td>\n",
       "      <td>NaN</td>\n",
       "      <td>0</td>\n",
       "      <td>0.0</td>\n",
       "      <td>3/29/2022 13:30</td>\n",
       "      <td>Not agree</td>\n",
       "      <td>Not agree</td>\n",
       "    </tr>\n",
       "    <tr>\n",
       "      <th>4</th>\n",
       "      <td>1/22/2020</td>\n",
       "      <td>ME</td>\n",
       "      <td>44</td>\n",
       "      <td>44.0</td>\n",
       "      <td>0.0</td>\n",
       "      <td>12</td>\n",
       "      <td>0.0</td>\n",
       "      <td>0</td>\n",
       "      <td>0.0</td>\n",
       "      <td>0.0</td>\n",
       "      <td>0</td>\n",
       "      <td>0.0</td>\n",
       "      <td>3/20/2020 0:00</td>\n",
       "      <td>Agree</td>\n",
       "      <td>Agree</td>\n",
       "    </tr>\n",
       "    <tr>\n",
       "      <th>...</th>\n",
       "      <td>...</td>\n",
       "      <td>...</td>\n",
       "      <td>...</td>\n",
       "      <td>...</td>\n",
       "      <td>...</td>\n",
       "      <td>...</td>\n",
       "      <td>...</td>\n",
       "      <td>...</td>\n",
       "      <td>...</td>\n",
       "      <td>...</td>\n",
       "      <td>...</td>\n",
       "      <td>...</td>\n",
       "      <td>...</td>\n",
       "      <td>...</td>\n",
       "      <td>...</td>\n",
       "    </tr>\n",
       "    <tr>\n",
       "      <th>49615</th>\n",
       "      <td>4/27/2022</td>\n",
       "      <td>FSM</td>\n",
       "      <td>7</td>\n",
       "      <td>7.0</td>\n",
       "      <td>0.0</td>\n",
       "      <td>0</td>\n",
       "      <td>0.0</td>\n",
       "      <td>0</td>\n",
       "      <td>0.0</td>\n",
       "      <td>0.0</td>\n",
       "      <td>0</td>\n",
       "      <td>0.0</td>\n",
       "      <td>8/14/2021 14:46</td>\n",
       "      <td>Agree</td>\n",
       "      <td>Agree</td>\n",
       "    </tr>\n",
       "    <tr>\n",
       "      <th>49616</th>\n",
       "      <td>4/27/2022</td>\n",
       "      <td>DC</td>\n",
       "      <td>25339</td>\n",
       "      <td>NaN</td>\n",
       "      <td>NaN</td>\n",
       "      <td>301</td>\n",
       "      <td>0.0</td>\n",
       "      <td>720</td>\n",
       "      <td>NaN</td>\n",
       "      <td>NaN</td>\n",
       "      <td>4</td>\n",
       "      <td>0.0</td>\n",
       "      <td>12/16/2020 14:28</td>\n",
       "      <td>NaN</td>\n",
       "      <td>NaN</td>\n",
       "    </tr>\n",
       "    <tr>\n",
       "      <th>49617</th>\n",
       "      <td>4/27/2022</td>\n",
       "      <td>SC</td>\n",
       "      <td>18083</td>\n",
       "      <td>18083.0</td>\n",
       "      <td>0.0</td>\n",
       "      <td>875</td>\n",
       "      <td>0.0</td>\n",
       "      <td>596</td>\n",
       "      <td>NaN</td>\n",
       "      <td>NaN</td>\n",
       "      <td>13</td>\n",
       "      <td>0.0</td>\n",
       "      <td>6/13/2020 0:00</td>\n",
       "      <td>Agree</td>\n",
       "      <td>Not agree</td>\n",
       "    </tr>\n",
       "    <tr>\n",
       "      <th>49618</th>\n",
       "      <td>4/27/2022</td>\n",
       "      <td>OR</td>\n",
       "      <td>209494</td>\n",
       "      <td>209494.0</td>\n",
       "      <td>0.0</td>\n",
       "      <td>117</td>\n",
       "      <td>0.0</td>\n",
       "      <td>2782</td>\n",
       "      <td>2782.0</td>\n",
       "      <td>0.0</td>\n",
       "      <td>1</td>\n",
       "      <td>0.0</td>\n",
       "      <td>7/7/2021 14:48</td>\n",
       "      <td>Agree</td>\n",
       "      <td>Agree</td>\n",
       "    </tr>\n",
       "    <tr>\n",
       "      <th>49619</th>\n",
       "      <td>4/27/2022</td>\n",
       "      <td>KY</td>\n",
       "      <td>471470</td>\n",
       "      <td>351970.0</td>\n",
       "      <td>119500.0</td>\n",
       "      <td>970</td>\n",
       "      <td>353.0</td>\n",
       "      <td>8009</td>\n",
       "      <td>7103.0</td>\n",
       "      <td>906.0</td>\n",
       "      <td>5</td>\n",
       "      <td>0.0</td>\n",
       "      <td>7/24/2021 0:00</td>\n",
       "      <td>Agree</td>\n",
       "      <td>Agree</td>\n",
       "    </tr>\n",
       "  </tbody>\n",
       "</table>\n",
       "<p>49620 rows × 15 columns</p>\n",
       "</div>\n",
       "    </div>"
      ],
      "text/plain": [
       "NetChangeBusiness_20_21\n",
       "      State  Bus_closing  Bus_opening\n",
       "0        NY         0.53         0.47\n",
       "1        FL         0.03         0.97\n",
       "2        GA         0.66         0.34\n",
       "3        MO         0.13         0.87\n",
       "4        WA         0.47         0.53\n",
       "5        CA         0.99         0.01\n",
       "6        LA         0.55         0.45\n",
       "7        HW         0.60         0.40\n",
       "8        TX         0.47         0.53\n",
       "9  National         0.10         0.99\n",
       "\n",
       "NetCovidDeaths_20_21\n",
       "      submission_date state  tot_cases  conf_cases  prob_cases  new_case  \\\n",
       "0           1/22/2020    ND     163565    135705.0     27860.0       589   \n",
       "1           1/22/2020    WA     197450         NaN         NaN      3018   \n",
       "2           1/22/2020    MD     100715         NaN         NaN       503   \n",
       "3           1/22/2020    VT     107785         NaN         NaN       467   \n",
       "4           1/22/2020    ME         44        44.0         0.0        12   \n",
       "...               ...   ...        ...         ...         ...       ...   \n",
       "49615       4/27/2022   FSM          7         7.0         0.0         0   \n",
       "49616       4/27/2022    DC      25339         NaN         NaN       301   \n",
       "49617       4/27/2022    SC      18083     18083.0         0.0       875   \n",
       "49618       4/27/2022    OR     209494    209494.0         0.0       117   \n",
       "49619       4/27/2022    KY     471470    351970.0    119500.0       970   \n",
       "\n",
       "       pnew_case  tot_death  conf_death  prob_death  new_death  pnew_death  \\\n",
       "0          220.0       1907         NaN         NaN          9         0.0   \n",
       "1          500.0       2850         NaN         NaN       -166         0.0   \n",
       "2            0.0       3765      3616.0       149.0          3         0.0   \n",
       "3           35.0        585         NaN         NaN          0         0.0   \n",
       "4            0.0          0         0.0         0.0          0         0.0   \n",
       "...          ...        ...         ...         ...        ...         ...   \n",
       "49615        0.0          0         0.0         0.0          0         0.0   \n",
       "49616        0.0        720         NaN         NaN          4         0.0   \n",
       "49617        0.0        596         NaN         NaN         13         0.0   \n",
       "49618        0.0       2782      2782.0         0.0          1         0.0   \n",
       "49619      353.0       8009      7103.0       906.0          5         0.0   \n",
       "\n",
       "             created_at consent_cases consent_deaths  \n",
       "0       12/2/2021 14:35         Agree      Not agree  \n",
       "1       12/12/2020 0:00           NaN            NaN  \n",
       "2        8/19/2020 0:00           NaN          Agree  \n",
       "3       3/29/2022 13:30     Not agree      Not agree  \n",
       "4        3/20/2020 0:00         Agree          Agree  \n",
       "...                 ...           ...            ...  \n",
       "49615   8/14/2021 14:46         Agree          Agree  \n",
       "49616  12/16/2020 14:28           NaN            NaN  \n",
       "49617    6/13/2020 0:00         Agree      Not agree  \n",
       "49618    7/7/2021 14:48         Agree          Agree  \n",
       "49619    7/24/2021 0:00         Agree          Agree  \n",
       "\n",
       "[49620 rows x 15 columns]"
      ]
     },
     "execution_count": 9,
     "metadata": {},
     "output_type": "execute_result"
    }
   ],
   "source": [
    "display('NetChangeBusiness_20_21', 'NetCovidDeaths_20_21') "
   ]
  },
  {
   "cell_type": "markdown",
   "id": "49b1e2d9",
   "metadata": {},
   "source": [
    "# REMOVE UNWANTED DATA\n",
    "#Remove Unwanted Column(s) For Each Dataset:"
   ]
  },
  {
   "cell_type": "code",
   "execution_count": 10,
   "id": "e3226db6",
   "metadata": {},
   "outputs": [],
   "source": [
    "NetCovidDeaths= NetCovidDeaths_20_21[[ 'tot_cases','tot_death']]"
   ]
  },
  {
   "cell_type": "code",
   "execution_count": 39,
   "id": "b14ecba9",
   "metadata": {},
   "outputs": [
    {
     "data": {
      "text/html": [
       "<div style=\"float: left; padding: 10px;\">\n",
       "    <p style='font-family:\"Courier New\", Courier, monospace'>NetChangeBusiness_20_21.head()</p><div>\n",
       "<style scoped>\n",
       "    .dataframe tbody tr th:only-of-type {\n",
       "        vertical-align: middle;\n",
       "    }\n",
       "\n",
       "    .dataframe tbody tr th {\n",
       "        vertical-align: top;\n",
       "    }\n",
       "\n",
       "    .dataframe thead th {\n",
       "        text-align: right;\n",
       "    }\n",
       "</style>\n",
       "<table border=\"1\" class=\"dataframe\">\n",
       "  <thead>\n",
       "    <tr style=\"text-align: right;\">\n",
       "      <th></th>\n",
       "      <th>State</th>\n",
       "      <th>Bus_closing</th>\n",
       "      <th>Bus_opening</th>\n",
       "    </tr>\n",
       "  </thead>\n",
       "  <tbody>\n",
       "    <tr>\n",
       "      <th>0</th>\n",
       "      <td>NY</td>\n",
       "      <td>0.53</td>\n",
       "      <td>0.47</td>\n",
       "    </tr>\n",
       "    <tr>\n",
       "      <th>1</th>\n",
       "      <td>FL</td>\n",
       "      <td>0.03</td>\n",
       "      <td>0.97</td>\n",
       "    </tr>\n",
       "    <tr>\n",
       "      <th>2</th>\n",
       "      <td>GA</td>\n",
       "      <td>0.66</td>\n",
       "      <td>0.34</td>\n",
       "    </tr>\n",
       "    <tr>\n",
       "      <th>3</th>\n",
       "      <td>MO</td>\n",
       "      <td>0.87</td>\n",
       "      <td>0.13</td>\n",
       "    </tr>\n",
       "    <tr>\n",
       "      <th>4</th>\n",
       "      <td>WA</td>\n",
       "      <td>0.47</td>\n",
       "      <td>0.53</td>\n",
       "    </tr>\n",
       "  </tbody>\n",
       "</table>\n",
       "</div>\n",
       "    </div>\n",
       "<div style=\"float: left; padding: 10px;\">\n",
       "    <p style='font-family:\"Courier New\", Courier, monospace'>NetCovidDeaths.head()</p><div>\n",
       "<style scoped>\n",
       "    .dataframe tbody tr th:only-of-type {\n",
       "        vertical-align: middle;\n",
       "    }\n",
       "\n",
       "    .dataframe tbody tr th {\n",
       "        vertical-align: top;\n",
       "    }\n",
       "\n",
       "    .dataframe thead th {\n",
       "        text-align: right;\n",
       "    }\n",
       "</style>\n",
       "<table border=\"1\" class=\"dataframe\">\n",
       "  <thead>\n",
       "    <tr style=\"text-align: right;\">\n",
       "      <th></th>\n",
       "      <th>tot_cases</th>\n",
       "      <th>tot_death</th>\n",
       "    </tr>\n",
       "  </thead>\n",
       "  <tbody>\n",
       "    <tr>\n",
       "      <th>0</th>\n",
       "      <td>163565</td>\n",
       "      <td>1907</td>\n",
       "    </tr>\n",
       "    <tr>\n",
       "      <th>1</th>\n",
       "      <td>197450</td>\n",
       "      <td>2850</td>\n",
       "    </tr>\n",
       "    <tr>\n",
       "      <th>2</th>\n",
       "      <td>100715</td>\n",
       "      <td>3765</td>\n",
       "    </tr>\n",
       "    <tr>\n",
       "      <th>3</th>\n",
       "      <td>107785</td>\n",
       "      <td>585</td>\n",
       "    </tr>\n",
       "    <tr>\n",
       "      <th>4</th>\n",
       "      <td>44</td>\n",
       "      <td>0</td>\n",
       "    </tr>\n",
       "  </tbody>\n",
       "</table>\n",
       "</div>\n",
       "    </div>"
      ],
      "text/plain": [
       "NetChangeBusiness_20_21.head()\n",
       "  State  Bus_closing  Bus_opening\n",
       "0    NY         0.53         0.47\n",
       "1    FL         0.03         0.97\n",
       "2    GA         0.66         0.34\n",
       "3    MO         0.87         0.13\n",
       "4    WA         0.47         0.53\n",
       "\n",
       "NetCovidDeaths.head()\n",
       "   tot_cases  tot_death\n",
       "0     163565       1907\n",
       "1     197450       2850\n",
       "2     100715       3765\n",
       "3     107785        585\n",
       "4         44          0"
      ]
     },
     "execution_count": 39,
     "metadata": {},
     "output_type": "execute_result"
    }
   ],
   "source": [
    "#View New dfB\n",
    "display('NetChangeBusiness_20_21.head()','NetCovidDeaths.head()')"
   ]
  },
  {
   "cell_type": "markdown",
   "id": "31827306",
   "metadata": {},
   "source": [
    "# INDEX - Set categorical info as column titles instead of numerical data.\n"
   ]
  },
  {
   "cell_type": "code",
   "execution_count": 16,
   "id": "e19661bb",
   "metadata": {
    "scrolled": true
   },
   "outputs": [
    {
     "data": {
      "text/html": [
       "<div>\n",
       "<style scoped>\n",
       "    .dataframe tbody tr th:only-of-type {\n",
       "        vertical-align: middle;\n",
       "    }\n",
       "\n",
       "    .dataframe tbody tr th {\n",
       "        vertical-align: top;\n",
       "    }\n",
       "\n",
       "    .dataframe thead th {\n",
       "        text-align: right;\n",
       "    }\n",
       "</style>\n",
       "<table border=\"1\" class=\"dataframe\">\n",
       "  <thead>\n",
       "    <tr style=\"text-align: right;\">\n",
       "      <th>State</th>\n",
       "      <th>NY</th>\n",
       "      <th>FL</th>\n",
       "      <th>GA</th>\n",
       "      <th>MO</th>\n",
       "      <th>WA</th>\n",
       "      <th>CA</th>\n",
       "      <th>LA</th>\n",
       "      <th>HW</th>\n",
       "      <th>TX</th>\n",
       "      <th>National</th>\n",
       "    </tr>\n",
       "  </thead>\n",
       "  <tbody>\n",
       "    <tr>\n",
       "      <th>Bus_closing</th>\n",
       "      <td>0.53</td>\n",
       "      <td>0.03</td>\n",
       "      <td>0.66</td>\n",
       "      <td>0.13</td>\n",
       "      <td>0.47</td>\n",
       "      <td>0.99</td>\n",
       "      <td>0.55</td>\n",
       "      <td>0.6</td>\n",
       "      <td>0.47</td>\n",
       "      <td>0.10</td>\n",
       "    </tr>\n",
       "    <tr>\n",
       "      <th>Bus_opening</th>\n",
       "      <td>0.47</td>\n",
       "      <td>0.97</td>\n",
       "      <td>0.34</td>\n",
       "      <td>0.87</td>\n",
       "      <td>0.53</td>\n",
       "      <td>0.01</td>\n",
       "      <td>0.45</td>\n",
       "      <td>0.4</td>\n",
       "      <td>0.53</td>\n",
       "      <td>0.99</td>\n",
       "    </tr>\n",
       "  </tbody>\n",
       "</table>\n",
       "</div>"
      ],
      "text/plain": [
       "State          NY    FL    GA    MO    WA    CA    LA   HW    TX  National\n",
       "Bus_closing  0.53  0.03  0.66  0.13  0.47  0.99  0.55  0.6  0.47      0.10\n",
       "Bus_opening  0.47  0.97  0.34  0.87  0.53  0.01  0.45  0.4  0.53      0.99"
      ]
     },
     "execution_count": 16,
     "metadata": {},
     "output_type": "execute_result"
    }
   ],
   "source": [
    "NetChangeBusiness_I = NetChangeBusiness_20_21.set_index('State').T\n",
    "NetChangeBusiness_I.head()"
   ]
  },
  {
   "cell_type": "markdown",
   "id": "2726f33d",
   "metadata": {},
   "source": [
    "# Data Explorations\n",
    "#Week 3"
   ]
  },
  {
   "cell_type": "markdown",
   "id": "a8078a0c",
   "metadata": {},
   "source": [
    "# Histogram of Net Change in Business"
   ]
  },
  {
   "cell_type": "code",
   "execution_count": 17,
   "id": "8c2e7f24",
   "metadata": {
    "scrolled": true
   },
   "outputs": [
    {
     "data": {
      "text/plain": [
       "array([[<AxesSubplot:title={'center':'NY'}>,\n",
       "        <AxesSubplot:title={'center':'FL'}>,\n",
       "        <AxesSubplot:title={'center':'GA'}>],\n",
       "       [<AxesSubplot:title={'center':'MO'}>,\n",
       "        <AxesSubplot:title={'center':'WA'}>,\n",
       "        <AxesSubplot:title={'center':'CA'}>],\n",
       "       [<AxesSubplot:title={'center':'LA'}>,\n",
       "        <AxesSubplot:title={'center':'HW'}>,\n",
       "        <AxesSubplot:title={'center':'TX'}>],\n",
       "       [<AxesSubplot:title={'center':'National'}>, <AxesSubplot:>,\n",
       "        <AxesSubplot:>]], dtype=object)"
      ]
     },
     "execution_count": 17,
     "metadata": {},
     "output_type": "execute_result"
    },
    {
     "data": {
      "image/png": "[encoded data removed]",
      "text/plain": [
       "<Figure size 432x288 with 12 Axes>"
      ]
     },
     "metadata": {
      "needs_background": "light"
     },
     "output_type": "display_data"
    }
   ],
   "source": [
    "NetChangeBusiness_I.hist()"
   ]
  },
  {
   "cell_type": "code",
   "execution_count": null,
   "id": "fcd8efc4",
   "metadata": {},
   "outputs": [],
   "source": [
    "Most of the USA's Businesses have opened back up according to these histograms. At one time early in the pandemic business closing were as steep as the recovering business opening late in the pandemic."
   ]
  },
  {
   "cell_type": "code",
   "execution_count": 37,
   "id": "3c24304a",
   "metadata": {},
   "outputs": [
    {
     "data": {
      "text/plain": [
       "array([[<AxesSubplot:title={'center':'Bus_closing'}>,\n",
       "        <AxesSubplot:title={'center':'Bus_opening'}>]], dtype=object)"
      ]
     },
     "execution_count": 37,
     "metadata": {},
     "output_type": "execute_result"
    },
    {
     "data": {
      "image/png": "[encoded data removed]",
      "text/plain": [
       "<Figure size 432x288 with 2 Axes>"
      ]
     },
     "metadata": {
      "needs_background": "light"
     },
     "output_type": "display_data"
    }
   ],
   "source": [
    "NetChangeBusiness_20_21.hist()"
   ]
  },
  {
   "cell_type": "code",
   "execution_count": 31,
   "id": "e7e01f49",
   "metadata": {},
   "outputs": [
    {
     "name": "stderr",
     "output_type": "stream",
     "text": [
      "C:\\Users\\pammy\\anaconda3\\lib\\site-packages\\seaborn\\distributions.py:2619: FutureWarning: `distplot` is a deprecated function and will be removed in a future version. Please adapt your code to use either `displot` (a figure-level function with similar flexibility) or `histplot` (an axes-level function for histograms).\n",
      "  warnings.warn(msg, FutureWarning)\n"
     ]
    },
    {
     "data": {
      "text/plain": [
       "<AxesSubplot:ylabel='Density'>"
      ]
     },
     "execution_count": 31,
     "metadata": {},
     "output_type": "execute_result"
    },
    {
     "data": {
      "image/png": "[encoded data removed]",
      "text/plain": [
       "<Figure size 432x288 with 1 Axes>"
      ]
     },
     "metadata": {
      "needs_background": "light"
     },
     "output_type": "display_data"
    }
   ],
   "source": [
    "sns.distplot(NetChangeBusines_I)"
   ]
  },
  {
   "cell_type": "markdown",
   "id": "503776d0",
   "metadata": {},
   "source": [
    "This graph shows an almost bell curve from the rebound in businesses now in 2022."
   ]
  },
  {
   "cell_type": "markdown",
   "id": "60b6c661",
   "metadata": {},
   "source": [
    "# Net Covid Cases and Deaths "
   ]
  },
  {
   "cell_type": "code",
   "execution_count": 11,
   "id": "232a3ef7",
   "metadata": {},
   "outputs": [
    {
     "data": {
      "text/plain": [
       "array([[<AxesSubplot:title={'center':'tot_cases'}>,\n",
       "        <AxesSubplot:title={'center':'tot_death'}>]], dtype=object)"
      ]
     },
     "execution_count": 11,
     "metadata": {},
     "output_type": "execute_result"
    },
    {
     "data": {
      "image/png": "[encoded data removed]",
      "text/plain": [
       "<Figure size 432x288 with 2 Axes>"
      ]
     },
     "metadata": {
      "needs_background": "light"
     },
     "output_type": "display_data"
    }
   ],
   "source": [
    "NetCovidDeaths.hist()"
   ]
  },
  {
   "cell_type": "code",
   "execution_count": null,
   "id": "96c3e4e6",
   "metadata": {},
   "outputs": [],
   "source": [
    "This histogram shows a positively skewed bell curve and transformation is need it to move it to the center."
   ]
  },
  {
   "cell_type": "code",
   "execution_count": 62,
   "id": "315543df",
   "metadata": {},
   "outputs": [
    {
     "data": {
      "text/plain": [
       "<AxesSubplot:xlabel='tot_cases', ylabel='Density'>"
      ]
     },
     "execution_count": 62,
     "metadata": {},
     "output_type": "execute_result"
    },
    {
     "data": {
      "image/png": "[encoded data removed]",
      "text/plain": [
       "<Figure size 432x288 with 1 Axes>"
      ]
     },
     "metadata": {
      "needs_background": "light"
     },
     "output_type": "display_data"
    }
   ],
   "source": [
    "sns.distplot(NetCovidDeaths['tot_cases'])"
   ]
  },
  {
   "cell_type": "code",
   "execution_count": 66,
   "id": "3c213011",
   "metadata": {},
   "outputs": [
    {
     "data": {
      "text/plain": [
       "<seaborn.axisgrid.FacetGrid at 0x19079d1e100>"
      ]
     },
     "execution_count": 66,
     "metadata": {},
     "output_type": "execute_result"
    },
    {
     "data": {
      "image/png": "[encoded data removed]",
      "text/plain": [
       "<Figure size 360x360 with 1 Axes>"
      ]
     },
     "metadata": {
      "needs_background": "light"
     },
     "output_type": "display_data"
    }
   ],
   "source": [
    "sns.displot(NetCovidDeaths['tot_death'])"
   ]
  },
  {
   "cell_type": "markdown",
   "id": "176763d6",
   "metadata": {},
   "source": [
    "NetCovidDeaths['tot_casessq'] = NetCovidDeaths['tot_cases'] ** 2"
   ]
  },
  {
   "cell_type": "markdown",
   "id": "0e35b899",
   "metadata": {},
   "source": []
  },
  {
   "cell_type": "code",
   "execution_count": null,
   "id": "aca37350",
   "metadata": {},
   "outputs": [],
   "source": []
  },
  {
   "cell_type": "markdown",
   "id": "59347d2e",
   "metadata": {},
   "source": [
    "# Data Analysis\n",
    "Week4"
   ]
  },
  {
   "cell_type": "markdown",
   "id": "be4acbf8",
   "metadata": {},
   "source": [
    "Perform k-Means\n",
    "Clustering is a type of unsupervised learning in which similar data are grouped together. Clustering can be changed to as many as needed. "
   ]
  },
  {
   "cell_type": "code",
   "execution_count": 52,
   "id": "036aa39c",
   "metadata": {},
   "outputs": [
    {
     "data": {
      "text/plain": [
       "KMeans(n_clusters=2)"
      ]
     },
     "execution_count": 52,
     "metadata": {},
     "output_type": "execute_result"
    }
   ],
   "source": [
    "kmeans = KMeans(n_clusters=2)\n",
    "kmeans.fit(NetCovidDeaths)\n",
    "\n"
   ]
  },
  {
   "cell_type": "code",
   "execution_count": 53,
   "id": "4af0c4dc",
   "metadata": {},
   "outputs": [
    {
     "data": {
      "text/plain": [
       "<matplotlib.collections.PathCollection at 0x1931e232cd0>"
      ]
     },
     "execution_count": 53,
     "metadata": {},
     "output_type": "execute_result"
    },
    {
     "data": {
      "image/png": "[encoded data removed]",
      "text/plain": [
       "<Figure size 720x432 with 1 Axes>"
      ]
     },
     "metadata": {
      "needs_background": "light"
     },
     "output_type": "display_data"
    }
   ],
   "source": [
    "plt.figure(figsize=(10,6))\n",
    "plt.title('K Means')\n",
    "plt.scatter(NetCovidDeaths['tot_cases'], NetCovidDeaths['tot_death'], c=kmeans.labels_, cmap='viridis')"
   ]
  },
  {
   "cell_type": "markdown",
   "id": "1441f86f",
   "metadata": {},
   "source": [
    "The kmeans scatterplot is thick so little comparisions are given from this kmeans test."
   ]
  },
  {
   "cell_type": "code",
   "execution_count": 54,
   "id": "20523c13",
   "metadata": {},
   "outputs": [
    {
     "data": {
      "text/plain": [
       "array([0, 0, 0, ..., 0, 0, 0])"
      ]
     },
     "execution_count": 54,
     "metadata": {},
     "output_type": "execute_result"
    }
   ],
   "source": [
    "kmeans.labels_"
   ]
  },
  {
   "cell_type": "code",
   "execution_count": 55,
   "id": "e138116c",
   "metadata": {},
   "outputs": [
    {
     "data": {
      "text/plain": [
       "array([[3.16167665e+05, 5.47775660e+03, 1.59223528e+00],\n",
       "       [3.36787325e+06, 4.71639621e+04, 2.18806306e+00]])"
      ]
     },
     "execution_count": 55,
     "metadata": {},
     "output_type": "execute_result"
    }
   ],
   "source": [
    "kmeans.cluster_centers_"
   ]
  },
  {
   "cell_type": "code",
   "execution_count": 56,
   "id": "45271d93",
   "metadata": {},
   "outputs": [
    {
     "data": {
      "text/plain": [
       "1.4916479958764666e+16"
      ]
     },
     "execution_count": 56,
     "metadata": {},
     "output_type": "execute_result"
    }
   ],
   "source": [
    "kmeans.inertia_"
   ]
  },
  {
   "cell_type": "code",
   "execution_count": 58,
   "id": "1719798e",
   "metadata": {},
   "outputs": [
    {
     "data": {
      "text/plain": [
       "KMeans(n_clusters=3)"
      ]
     },
     "execution_count": 58,
     "metadata": {},
     "output_type": "execute_result"
    }
   ],
   "source": [
    "kmeans = KMeans(n_clusters=3)\n",
    "kmeans.fit(NetCovidDeaths)\n"
   ]
  },
  {
   "cell_type": "code",
   "execution_count": 59,
   "id": "a66f6def",
   "metadata": {},
   "outputs": [
    {
     "data": {
      "text/plain": [
       "<matplotlib.collections.PathCollection at 0x1931e58c9a0>"
      ]
     },
     "execution_count": 59,
     "metadata": {},
     "output_type": "execute_result"
    },
    {
     "data": {
      "image/png": "[encoded data removed]",
      "text/plain": [
       "<Figure size 720x432 with 1 Axes>"
      ]
     },
     "metadata": {
      "needs_background": "light"
     },
     "output_type": "display_data"
    }
   ],
   "source": [
    "plt.figure(figsize=(10,6))\n",
    "plt.title('K Means')\n",
    "plt.scatter(NetCovidDeaths['tot_cases'], NetCovidDeaths['tot_death'], c=kmeans.labels_, cmap='viridis')"
   ]
  },
  {
   "cell_type": "code",
   "execution_count": 60,
   "id": "e81b8816",
   "metadata": {},
   "outputs": [
    {
     "data": {
      "text/plain": [
       "array([2, 2, 2, ..., 2, 2, 2])"
      ]
     },
     "execution_count": 60,
     "metadata": {},
     "output_type": "execute_result"
    }
   ],
   "source": [
    "kmeans.labels_"
   ]
  },
  {
   "cell_type": "code",
   "execution_count": 61,
   "id": "d9b1e49b",
   "metadata": {},
   "outputs": [
    {
     "data": {
      "text/plain": [
       "array([[1.44017898e+06, 2.25339515e+04, 1.77048780e+00],\n",
       "       [5.03582051e+06, 6.89937539e+04, 2.56649215e+00],\n",
       "       [1.77914419e+05, 3.26679592e+03, 1.57234647e+00]])"
      ]
     },
     "execution_count": 61,
     "metadata": {},
     "output_type": "execute_result"
    }
   ],
   "source": [
    "kmeans.cluster_centers_"
   ]
  },
  {
   "cell_type": "code",
   "execution_count": 62,
   "id": "0870cd97",
   "metadata": {},
   "outputs": [
    {
     "data": {
      "text/plain": [
       "7318162717264955.0"
      ]
     },
     "execution_count": 62,
     "metadata": {},
     "output_type": "execute_result"
    }
   ],
   "source": [
    "kmeans.inertia_"
   ]
  },
  {
   "cell_type": "code",
   "execution_count": null,
   "id": "9034ed2e",
   "metadata": {},
   "outputs": [],
   "source": []
  }
 ],
 "metadata": {
  "kernelspec": {
   "display_name": "Python 3 (ipykernel)",
   "language": "python",
   "name": "python3"
  },
  "language_info": {
   "codemirror_mode": {
    "name": "ipython",
    "version": 3
   },
   "file_extension": ".py",
   "mimetype": "text/x-python",
   "name": "python",
   "nbconvert_exporter": "python",
   "pygments_lexer": "ipython3",
   "version": "3.9.7"
  }
 },
 "nbformat": 4,
 "nbformat_minor": 5
}
